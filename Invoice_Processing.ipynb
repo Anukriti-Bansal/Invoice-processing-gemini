{
  "nbformat": 4,
  "nbformat_minor": 0,
  "metadata": {
    "colab": {
      "provenance": []
    },
    "kernelspec": {
      "name": "python3",
      "display_name": "Python 3"
    },
    "language_info": {
      "name": "python"
    }
  },
  "cells": [
    {
      "cell_type": "code",
      "execution_count": 1,
      "metadata": {
        "id": "WphyED44_9H6"
      },
      "outputs": [],
      "source": [
        "import google.generativeai as genai\n",
        "from google.colab import drive, userdata\n",
        "import os\n",
        "import json\n",
        "import openpyxl\n",
        "from openpyxl import Workbook\n",
        "import PIL.Image"
      ]
    },
    {
      "cell_type": "code",
      "source": [
        "import re"
      ],
      "metadata": {
        "id": "L1TBCFmwC3Ca"
      },
      "execution_count": 2,
      "outputs": []
    },
    {
      "cell_type": "code",
      "source": [
        "def get_existing_image_ids(excel_file):\n",
        "    \"\"\"\n",
        "    Retrieve the list of image IDs already present in the Excel file.\n",
        "\n",
        "    Parameters:\n",
        "    excel_file (str): Path to the Excel file.\n",
        "\n",
        "    Returns:\n",
        "    set: A set of image IDs present in the file.\n",
        "    \"\"\"\n",
        "    if os.path.exists(excel_file):\n",
        "        workbook = openpyxl.load_workbook(excel_file)\n",
        "        sheet = workbook.active\n",
        "        image_ids = {row[0].value for row in sheet.iter_rows(min_row=2, max_col=1)}\n",
        "        return set(image_ids)\n",
        "    return set()"
      ],
      "metadata": {
        "id": "bAJEZljAC3_M"
      },
      "execution_count": 3,
      "outputs": []
    },
    {
      "cell_type": "code",
      "source": [
        "def get_llm_response(file_name, img):\n",
        "\n",
        "  generation_config = {\n",
        "      \"temperature\": 1,\n",
        "      \"top_p\": 0.95,\n",
        "      \"top_k\": 40,\n",
        "      \"max_output_tokens\": 8192,\n",
        "      \"response_mime_type\": \"text/plain\",\n",
        "  }\n",
        "\n",
        "  model = genai.GenerativeModel(\n",
        "    model_name=\"gemini-1.5-flash\",\n",
        "    generation_config=generation_config,\n",
        "  )\n",
        "\n",
        "  text_input = \"\"\"You are provided with the invoice.\n",
        "                Give the date and total amount from the receipt.\n",
        "                Give the response in the following json format\n",
        "                {{\"image_id\": \"Jan_2025\",\n",
        "                \"date\": \"dd/mm/yyyy\",\n",
        "                \"Amount\": \"4000.50\"}}\n",
        "                Here the image_id is created using month and year of the date\"\"\"\n",
        "\n",
        "  prompt = [\n",
        "        text_input, img\n",
        "  ]\n",
        "\n",
        "  response = model.generate_content(prompt)\n",
        "  return response.text\n"
      ],
      "metadata": {
        "id": "wRjASBnDC9Ij"
      },
      "execution_count": 4,
      "outputs": []
    },
    {
      "cell_type": "code",
      "source": [
        "def process_invoices(file_name, folder_path, excel_file, json_data):\n",
        "\n",
        "    print(json_data)\n",
        "    # tt = input()\n",
        "    # Define the Excel file name\n",
        "\n",
        "\n",
        "    # if isinstance(json_data, str):\n",
        "    #     json_data = json.loads(json_data)\n",
        "    try:\n",
        "        # Regular expression to extract JSON from the text\n",
        "        json_match = re.search(r\"\\{.*\\}\", json_data, re.DOTALL)\n",
        "        if json_match:\n",
        "            json_str = json_match.group(0)  # Get the JSON string\n",
        "            json_data = json.loads(json_str)    # Convert to Python dictionary\n",
        "        else:\n",
        "            raise ValueError(\"No JSON found in the LLM output.\")\n",
        "    except json.JSONDecodeError as e:\n",
        "        print(f\"Error decoding JSON: {e}\")\n",
        "        return None\n",
        "    except Exception as e:\n",
        "        print(f\"Error: {e}\")\n",
        "        return None\n",
        "\n",
        "    # Check if the Excel file exists\n",
        "    if os.path.exists(excel_file):\n",
        "        # Open the existing workbook\n",
        "        workbook = openpyxl.load_workbook(excel_file)\n",
        "        sheet = workbook.active\n",
        "    else:\n",
        "        # Create a new workbook and add headers\n",
        "        workbook = Workbook()\n",
        "        sheet = workbook.active\n",
        "        sheet.title = \"Invoices\"\n",
        "        sheet.append([\"image_id\", \"date\", \"Amount\"])\n",
        "\n",
        "    # Add the JSON data to the Excel file\n",
        "    sheet.append([file_name, json_data[\"date\"], json_data[\"Amount\"]])\n",
        "\n",
        "    # Save the workbook\n",
        "    workbook.save(excel_file)\n",
        "    print(f\"Data saved in {excel_file}\")"
      ],
      "metadata": {
        "id": "eg2_8yDIDHKD"
      },
      "execution_count": 5,
      "outputs": []
    },
    {
      "cell_type": "code",
      "source": [
        "def main():\n",
        "\n",
        "\n",
        "  gemini_api_key = userdata.get(\"GEMINI_KEY\")\n",
        "\n",
        "  genai.configure(api_key=gemini_api_key)\n",
        "\n",
        "  # Mount Google Drive\n",
        "  drive.mount('/content/drive')\n",
        "\n",
        "  # Define the folder path in your Google Drive\n",
        "  folder_path = \"/content/drive/My Drive/Invoices\"  # Replace with your folder path\n",
        "\n",
        "  excel_file = os.path.join(folder_path, \"invoices.xlsx\")\n",
        "  output_path = excel_file\n",
        "\n",
        "\n",
        "  existing_image_ids = []\n",
        "  existing_image_ids = get_existing_image_ids(excel_file)\n",
        "  print(\"Existing image IDs:\", existing_image_ids)\n",
        "\n",
        "  for file_name in os.listdir(folder_path):\n",
        "        if file_name.endswith(\".jpeg\") or file_name.endswith(\".jpg\"):\n",
        "\n",
        "            if file_name in existing_image_ids:\n",
        "                print(f\"Skipping {file_name} (already processed)\")\n",
        "                continue\n",
        "            # image_id = os.path.splitext(file_name)[0]\n",
        "            image_path = os.path.join(folder_path, file_name)\n",
        "\n",
        "            img = PIL.Image.open(image_path)\n",
        "\n",
        "            json_response = get_llm_response(file_name, img)\n",
        "            print(json_response)\n",
        "\n",
        "            process_invoices(file_name, folder_path, excel_file, json_response)\n"
      ],
      "metadata": {
        "id": "IrxOKVDsDLKG"
      },
      "execution_count": 10,
      "outputs": []
    },
    {
      "cell_type": "code",
      "source": [
        "if __name__ == \"__main__\":\n",
        "  main()"
      ],
      "metadata": {
        "colab": {
          "base_uri": "https://localhost:8080/"
        },
        "id": "p9NQAlk5GUgR",
        "outputId": "44cf8403-f994-4a66-edf0-781cd43d77a0"
      },
      "execution_count": 11,
      "outputs": [
        {
          "output_type": "stream",
          "name": "stdout",
          "text": [
            "Mounted at /content/drive\n",
            "Existing image IDs: {'IMG_6200.jpg', 'IMG_6357.jpg'}\n",
            "Skipping IMG_6357.jpg (already processed)\n",
            "Skipping IMG_6200.jpg (already processed)\n"
          ]
        }
      ]
    },
    {
      "cell_type": "code",
      "source": [],
      "metadata": {
        "id": "Gn6j3ouqGhxz"
      },
      "execution_count": null,
      "outputs": []
    }
  ]
}